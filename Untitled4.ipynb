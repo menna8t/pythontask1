{
 "cells": [
  {
   "cell_type": "code",
   "execution_count": 2,
   "id": "28e4f98f-65b0-4440-ba08-5db3839c8cca",
   "metadata": {},
   "outputs": [
    {
     "name": "stdout",
     "output_type": "stream",
     "text": [
      "please enter the temperature\n"
     ]
    },
    {
     "name": "stdin",
     "output_type": "stream",
     "text": [
      " 50\n"
     ]
    },
    {
     "ename": "TypeError",
     "evalue": "'>' not supported between instances of 'str' and 'int'",
     "output_type": "error",
     "traceback": [
      "\u001b[1;31m---------------------------------------------------------------------------\u001b[0m",
      "\u001b[1;31mTypeError\u001b[0m                                 Traceback (most recent call last)",
      "Cell \u001b[1;32mIn[2], line 3\u001b[0m\n\u001b[0;32m      1\u001b[0m \u001b[38;5;28mprint\u001b[39m ( \u001b[38;5;124m\"\u001b[39m\u001b[38;5;124mplease enter the temperature\u001b[39m\u001b[38;5;124m\"\u001b[39m)\n\u001b[0;32m      2\u001b[0m temp \u001b[38;5;241m=\u001b[39m \u001b[38;5;28minput\u001b[39m () \n\u001b[1;32m----> 3\u001b[0m \u001b[38;5;28;01mif\u001b[39;00m temp \u001b[38;5;241m>\u001b[39m \u001b[38;5;241m30\u001b[39m \u001b[38;5;129;01mor\u001b[39;00m temp \u001b[38;5;241m==\u001b[39m \u001b[38;5;241m30\u001b[39m :\n\u001b[0;32m      4\u001b[0m     \u001b[38;5;28mprint\u001b[39m (\u001b[38;5;124m\"\u001b[39m\u001b[38;5;124mIt\u001b[39m\u001b[38;5;124m'\u001b[39m\u001b[38;5;124ms a hot day. Stay hydrated!\u001b[39m\u001b[38;5;124m\"\u001b[39m )\n\u001b[0;32m      5\u001b[0m \u001b[38;5;28;01melif\u001b[39;00m temp \u001b[38;5;241m>\u001b[39m\u001b[38;5;241m=\u001b[39m \u001b[38;5;241m20\u001b[39m \u001b[38;5;129;01mand\u001b[39;00m temp \u001b[38;5;241m<\u001b[39m\u001b[38;5;241m=\u001b[39m \u001b[38;5;241m29\u001b[39m :\n",
      "\u001b[1;31mTypeError\u001b[0m: '>' not supported between instances of 'str' and 'int'"
     ]
    }
   ],
   "source": [
    "print ( \"please enter the temperature\")\n",
    "temp = input () \n",
    "if temp > 30 or temp == 30 :\n",
    "    print (\"It's a hot day. Stay hydrated!\" )\n",
    "elif temp >= 20 and temp <= 29 :\n",
    "    print (\"It's a warm day. Enjoy the weather!\" )\n",
    "elif temp >= 10 and temp <= 19 :\n",
    "    Print (\"It's a cool day. Wear a jacket!\" )\n",
    "elif temp < 10 :\n",
    "    print (\"It's a cold day. Stay warm!\" )\n",
    "    \n",
    "\n",
    "\n"
   ]
  },
  {
   "cell_type": "code",
   "execution_count": null,
   "id": "3ad3e887-cae4-4c5a-86c1-147302f9be09",
   "metadata": {},
   "outputs": [],
   "source": []
  }
 ],
 "metadata": {
  "kernelspec": {
   "display_name": "Python [conda env:base] *",
   "language": "python",
   "name": "conda-base-py"
  },
  "language_info": {
   "codemirror_mode": {
    "name": "ipython",
    "version": 3
   },
   "file_extension": ".py",
   "mimetype": "text/x-python",
   "name": "python",
   "nbconvert_exporter": "python",
   "pygments_lexer": "ipython3",
   "version": "3.13.5"
  }
 },
 "nbformat": 4,
 "nbformat_minor": 5
}
